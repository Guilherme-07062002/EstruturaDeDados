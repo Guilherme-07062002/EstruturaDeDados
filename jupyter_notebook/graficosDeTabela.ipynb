{
  "cells": [
    {
      "attachments": {},
      "cell_type": "markdown",
      "id": "cee0636e-822d-46e3-ab61-13dee1c25b40",
      "metadata": {},
      "source": [
        "# Gerando gráficos com os dados obtidos utilizando python"
      ]
    },
    {
      "attachments": {},
      "cell_type": "markdown",
      "id": "8e43e909",
      "metadata": {},
      "source": [
        "Costrução dos gráficos com base no arquivo tempos_execucao.csv"
      ]
    },
    {
      "cell_type": "code",
      "execution_count": null,
      "id": "1ed2ccb4",
      "metadata": {},
      "outputs": [],
      "source": [
        "import pandas as pd\n",
        "import matplotlib.pyplot as plt\n",
        "%matplotlib inline\n",
        "\n",
        "# Ler o arquivo CSV\n",
        "df = pd.read_csv('../algoritmosDeOrdenação/principal/tempos_execucao.csv')\n",
        "\n",
        "# Gráfico para 100 elementos\n",
        "df_100 = df[df['Tamanho do Array'] == 100]\n",
        "df_100.plot(kind='line', x='Algoritmo', y='Tempo de Execucao (ms)',\n",
        "            title='Tempo de Execução dos Algoritmos - 100 elementos')\n",
        "plt.ylabel('Tempo (ms)')\n",
        "\n",
        "# Gráfico para 1.000 elementos\n",
        "df_1000 = df[df['Tamanho do Array'] == 1000]\n",
        "df_1000.plot(kind='line', x='Algoritmo', y='Tempo de Execucao (ms)',\n",
        "             title='Tempo de Execução dos Algoritmos - 1.000 elementos')\n",
        "plt.ylabel('Tempo (ms)')\n",
        "\n",
        "# Gráfico para 10.000 elementos\n",
        "df_10000 = df[df['Tamanho do Array'] == 10000]\n",
        "df_10000.plot(kind='line', x='Algoritmo', y='Tempo de Execucao (ms)',\n",
        "              title='Tempo de Execução dos Algoritmos - 10.000 elementos')\n",
        "plt.ylabel('Tempo (ms)')\n",
        "\n",
        "# Gráfico para 100.000 elementos\n",
        "df_10000 = df[df['Tamanho do Array'] == 100000]\n",
        "df_10000.plot(kind='line', x='Algoritmo', y='Tempo de Execucao (ms)',\n",
        "              title='Tempo de Execução dos Algoritmos - 100.000 elementos')\n",
        "plt.ylabel('Tempo (ms)')\n",
        "\n",
        "plt.show()\n"
      ]
    }
  ],
  "metadata": {
    "kernelspec": {
      "display_name": "Python 3",
      "language": "python",
      "name": "python3"
    },
    "language_info": {
      "codemirror_mode": {
        "name": "ipython",
        "version": 3
      },
      "file_extension": ".py",
      "mimetype": "text/x-python",
      "name": "python",
      "nbconvert_exporter": "python",
      "pygments_lexer": "ipython3",
      "version": "3.10.6"
    }
  },
  "nbformat": 4,
  "nbformat_minor": 5
}
